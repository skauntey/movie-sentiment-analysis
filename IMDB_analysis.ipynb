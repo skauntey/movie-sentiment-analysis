{
 "cells": [
  {
   "cell_type": "code",
   "execution_count": 1,
   "metadata": {},
   "outputs": [],
   "source": [
    "import tensorflow as tf\n",
    "import pandas as pd\n",
    "import numpy as np\n",
    "import os\n",
    "import kaggle"
   ]
  },
  {
   "cell_type": "markdown",
   "metadata": {
    "pycharm": {
     "is_executing": true,
     "name": "#%% md\n"
    }
   },
   "source": [
    "#### 1. Downloading Kaggle files"
   ]
  },
  {
   "cell_type": "code",
   "execution_count": 2,
   "metadata": {
    "pycharm": {
     "name": "#%%\n"
    }
   },
   "outputs": [],
   "source": [
    "kaggle.api.authenticate()\n",
    "kaggle.api.competition_download_files('sentiment-analysis-on-movie-reviews', path= str(os.getcwd())+\"/dataset/\", force = True)"
   ]
  },
  {
   "cell_type": "markdown",
   "metadata": {
    "pycharm": {
     "name": "#%% md\n"
    }
   },
   "source": [
    "#### 2. Unzipping Kaggle files"
   ]
  },
  {
   "cell_type": "code",
   "execution_count": 3,
   "metadata": {},
   "outputs": [
    {
     "data": {
      "text/plain": [
       "['sentiment-analysis-on-movie-reviews.zip']"
      ]
     },
     "execution_count": 3,
     "metadata": {},
     "output_type": "execute_result"
    }
   ],
   "source": [
    "files = os.listdir(os.path.join(str(os.getcwd())+'\\dataset'))\n",
    "files"
   ]
  },
  {
   "cell_type": "code",
   "execution_count": 4,
   "metadata": {
    "pycharm": {
     "name": "#%%\n"
    }
   },
   "outputs": [],
   "source": [
    "import zipfile\n",
    "ziped_file = r'dataset/sentiment-analysis-on-movie-reviews.zip'\n",
    "with zipfile.ZipFile(ziped_file) as zip_file:\n",
    "    for member in zip_file.namelist():\n",
    "        if member.split('.')[-1] == \"zip\":\n",
    "            fdir = member.split('.')[0]\n",
    "            zip_file.extract(member, path= os.path.join('dataset/'+fdir))\n",
    "            # extracting individual train and test files in their respective folders\n",
    "            zippedfile_name = os.listdir(os.path.join(str(os.getcwd()+'/dataset/'+fdir+'/')))\n",
    "            zippedfile = os.path.join(str(os.getcwd())+'/dataset/'+ fdir, zippedfile_name[0])\n",
    "            with zipfile.ZipFile(zippedfile, mode='r') as tsv_zip:\n",
    "                tsv_zip.extractall(path = os.path.join('dataset/'+fdir+'/'))\n",
    "                \n",
    "            os.remove(zippedfile)\n",
    "        else:\n",
    "            continue\n",
    "            \n",
    "os.remove(ziped_file)\n"
   ]
  },
  {
   "cell_type": "code",
   "execution_count": 5,
   "metadata": {
    "pycharm": {
     "name": "#%%\n"
    }
   },
   "outputs": [
    {
     "data": {
      "text/plain": [
       "\"files = os.listdir(os.path.join(str(os.getcwd())+'\\\\dataset'))\\nfor afile in files:\\n    if afile.split('.')[-1] == 'zip':\\n        z_tsv = os.path.join(str(os.getcwd())+'\\\\dataset',afile)\\n        with zipfile.ZipFile(z_tsv, mode='r') as tsv_zip:\\n            tsv_zip.extractall(path = 'dataset/')\\n\\n        os.remove(z_tsv)\""
      ]
     },
     "execution_count": 5,
     "metadata": {},
     "output_type": "execute_result"
    }
   ],
   "source": [
    "\"\"\"files = os.listdir(os.path.join(str(os.getcwd())+'\\dataset'))\n",
    "for afile in files:\n",
    "    if afile.split('.')[-1] == 'zip':\n",
    "        z_tsv = os.path.join(str(os.getcwd())+'\\dataset',afile)\n",
    "        with zipfile.ZipFile(z_tsv, mode='r') as tsv_zip:\n",
    "            tsv_zip.extractall(path = 'dataset/')\n",
    "\n",
    "        os.remove(z_tsv)\"\"\""
   ]
  },
  {
   "cell_type": "markdown",
   "metadata": {
    "pycharm": {
     "name": "#%% md\n"
    }
   },
   "source": [
    "#### 3. Testing files"
   ]
  },
  {
   "cell_type": "code",
   "execution_count": 6,
   "metadata": {
    "pycharm": {
     "name": "#%%\n"
    }
   },
   "outputs": [
    {
     "name": "stdout",
     "output_type": "stream",
     "text": [
      "{0, 1, 2, 3, 4}\n"
     ]
    }
   ],
   "source": [
    "tsvfile = 'dataset/train/train.tsv'\n",
    "# read the data\n",
    "tsv_read = pd.read_csv(tsvfile, sep=\"\\t\")\n",
    "pdf = pd.DataFrame(tsv_read, columns=['Phrase', 'Sentiment'], index= None)\n",
    "print (set(pdf['Sentiment']))"
   ]
  },
  {
   "cell_type": "code",
   "execution_count": 7,
   "metadata": {
    "pycharm": {
     "name": "#%%\n"
    }
   },
   "outputs": [
    {
     "name": "stdout",
     "output_type": "stream",
     "text": [
      "124848\n",
      "140454\n",
      "(124848, 2)\n",
      "(15607, 2)\n",
      "(15606, 2)\n"
     ]
    },
    {
     "data": {
      "text/plain": [
       "str"
      ]
     },
     "execution_count": 7,
     "metadata": {},
     "output_type": "execute_result"
    }
   ],
   "source": [
    "train_split = 0.8\n",
    "val_split = 0.1\n",
    "test_split = 0.1\n",
    "\n",
    "training_mark = int(abs(len(pdf) * train_split))\n",
    "validation_mark = np.add(training_mark, int(abs(len(pdf)) * val_split))\n",
    "\n",
    "print(training_mark)\n",
    "print(validation_mark)\n",
    "\n",
    "training_set = np.array(pdf.loc[1:training_mark])\n",
    "validation_set = np.array(pdf.loc[training_mark:validation_mark])\n",
    "test_set = np.array(pdf.loc[validation_mark:])\n",
    "\n",
    "print(training_set.shape)\n",
    "print(validation_set.shape)\n",
    "print(test_set.shape)\n",
    "\n",
    "type(training_set[:,0][0])\n"
   ]
  },
  {
   "cell_type": "code",
   "execution_count": 8,
   "metadata": {},
   "outputs": [
    {
     "data": {
      "text/plain": [
       "\"locals()while str(os.getcwd()).split('\\\\')[-1] != 'train' and 'train' in os.listdir('dataset\\\\'):\\n    os.chdir(os.path.join(str(os.getcwd())+'\\\\dataset\\\\'+'train'))\""
      ]
     },
     "execution_count": 8,
     "metadata": {},
     "output_type": "execute_result"
    }
   ],
   "source": [
    "\"\"\"locals()while str(os.getcwd()).split('\\\\')[-1] != 'train' and 'train' in os.listdir('dataset\\\\'):\n",
    "    os.chdir(os.path.join(str(os.getcwd())+'\\\\dataset\\\\'+'train'))\"\"\""
   ]
  },
  {
   "cell_type": "code",
   "execution_count": 9,
   "metadata": {
    "pycharm": {
     "name": "#%%\n"
    }
   },
   "outputs": [
    {
     "ename": "SyntaxError",
     "evalue": "(unicode error) 'unicodeescape' codec can't decode bytes in position 1340-1341: truncated \\UXXXXXXXX escape (<ipython-input-9-4ea00a545aef>, line 1)",
     "output_type": "error",
     "traceback": [
      "\u001B[1;36m  File \u001B[1;32m\"<ipython-input-9-4ea00a545aef>\"\u001B[1;36m, line \u001B[1;32m1\u001B[0m\n\u001B[1;33m    \"\"\"\u001B[0m\n\u001B[1;37m    ^\u001B[0m\n\u001B[1;31mSyntaxError\u001B[0m\u001B[1;31m:\u001B[0m (unicode error) 'unicodeescape' codec can't decode bytes in position 1340-1341: truncated \\UXXXXXXXX escape\n"
     ]
    }
   ],
   "source": [
    "\"\"\"\n",
    "import csv\n",
    "Phrases = []\n",
    "Sentiment= []\n",
    "stopwords = [ \"a\", \"about\", \"above\", \"after\", \"again\", \"against\", \"all\", \"am\", \"an\", \"and\", \"any\", \"are\", \"as\", \"at\", \"be\", \"because\", \"been\", \"before\", \"being\", \"below\", \"between\", \"both\", \"but\", \"by\", \"could\", \"did\", \"do\", \"does\", \"doing\", \"down\", \"during\", \"each\", \"few\", \"for\", \"from\", \"further\", \"had\", \"has\", \"have\", \"having\", \"he\", \"he'd\", \"he'll\", \"he's\", \"her\", \"here\", \"here's\", \"hers\", \"herself\", \"him\", \"himself\", \"his\", \"how\", \"how's\", \"i\", \"i'd\", \"i'll\", \"i'm\", \"i've\", \"if\", \"in\", \"into\", \"is\", \"it\", \"it's\", \"its\", \"itself\", \"let's\", \"me\", \"more\", \"most\", \"my\", \"myself\", \"nor\", \"of\", \"on\", \"once\", \"only\", \"or\", \"other\", \"ought\", \"our\", \"ours\", \"ourselves\", \"out\", \"over\", \"own\", \"same\", \"she\", \"she'd\", \"she'll\", \"she's\", \"should\", \"so\", \"some\", \"such\", \"than\", \"that\", \"that's\", \"the\", \"their\", \"theirs\", \"them\", \"themselves\", \"then\", \"there\", \"there's\", \"these\", \"they\", \"they'd\", \"they'll\", \"they're\", \"they've\", \"this\", \"those\", \"through\", \"to\", \"too\", \"under\", \"until\", \"up\", \"very\", \"was\", \"we\", \"we'd\", \"we'll\", \"we're\", \"we've\", \"were\", \"what\", \"what's\", \"when\", \"when's\", \"where\", \"where's\", \"which\", \"while\", \"who\", \"who's\", \"whom\", \"why\", \"why's\", \"with\", \"would\", \"you\", \"you'd\", \"you'll\", \"you're\", \"you've\", \"your\", \"yours\", \"yourself\", \"yourselves\" ]\n",
    "\n",
    "train_set = r\"C:\\Users\\eq\\Documents\\UCL\\ELEC0135 ALMS II\\movie-sentimental-analysis\\movie-sentiment-analysis\\dataset\\train.tsv\"\n",
    "test_set = r\"C:\\Users\\eq\\Documents\\UCL\\ELEC0135 ALMS II\\movie-sentimental-analysis\\movie-sentiment-analysis\\dataset\\test.tsv\"\n",
    "\n",
    "with open (train_set, 'r') as csvfile:\n",
    "    reader = csv.reader(csvfile, delimiter ='\\t')\n",
    "    for row in reader:\n",
    "        print(row[-2])\n",
    "\"\"\"\n"
   ]
  },
  {
   "cell_type": "code",
   "execution_count": 10,
   "metadata": {
    "pycharm": {
     "name": "#%%\n"
    }
   },
   "outputs": [
    {
     "data": {
      "text/plain": [
       "'import csv\\ntrain_phrases = []\\ntrain_sentiment = []\\nstopwords = [ \"a\", \"about\", \"above\", \"after\", \"again\", \"against\", \"all\", \"am\", \"an\", \"and\", \"any\", \"are\", \"as\", \"at\", \"be\", \"because\", \"been\", \"before\", \"being\", \"below\", \"between\", \"both\", \"but\", \"by\", \"could\", \"did\", \"do\", \"does\", \"doing\", \"down\", \"during\", \"each\", \"few\", \"for\", \"from\", \"further\", \"had\", \"has\", \"have\", \"having\", \"he\", \"he\\'d\", \"he\\'ll\", \"he\\'s\", \"her\", \"here\", \"here\\'s\", \"hers\", \"herself\", \"him\", \"himself\", \"his\", \"how\", \"how\\'s\", \"i\", \"i\\'d\", \"i\\'ll\", \"i\\'m\", \"i\\'ve\", \"if\", \"in\", \"into\", \"is\", \"it\", \"it\\'s\", \"its\", \"itself\", \"let\\'s\", \"me\", \"more\", \"most\", \"my\", \"myself\", \"nor\", \"of\", \"on\", \"once\", \"only\", \"or\", \"other\", \"ought\", \"our\", \"ours\", \"ourselves\", \"out\", \"over\", \"own\", \"same\", \"she\", \"she\\'d\", \"she\\'ll\", \"she\\'s\", \"should\", \"so\", \"some\", \"such\", \"than\", \"that\", \"that\\'s\", \"the\", \"their\", \"theirs\", \"them\", \"themselves\", \"then\", \"there\", \"there\\'s\", \"these\", \"they\", \"they\\'d\", \"they\\'ll\", \"they\\'re\", \"they\\'ve\", \"this\", \"those\", \"through\", \"to\", \"too\", \"under\", \"until\", \"up\", \"very\", \"was\", \"we\", \"we\\'d\", \"we\\'ll\", \"we\\'re\", \"we\\'ve\", \"were\", \"what\", \"what\\'s\", \"when\", \"when\\'s\", \"where\", \"where\\'s\", \"which\", \"while\", \"who\", \"who\\'s\", \"whom\", \"why\", \"why\\'s\", \"with\", \"would\", \"you\", \"you\\'d\", \"you\\'ll\", \"you\\'re\", \"you\\'ve\", \"your\", \"yours\", \"yourself\", \"yourselves\" ]\\n\\ntrain_zip = os.listdir()\\ntsv_file = os.path.join(str(os.getcwd()) +\\'\\\\\\'+ train_zip[0])\\nwith open (tsv_file, mode = \\'r\\') as csvfile:\\n    reader = csv.reader(csvfile, delimiter =\\'\\t\\')\\n    for row in reader:\\n        train_sentiment.append(row[-1])\\n        sentence = row[-2]\\n        for word in stopwords:\\n            token = \" \"+ word +\" \"\\n            sentence = sentence.replace(token, \" \")\\n        train_phrases.append(sentence)\\n\\nprint (len(train_phrases))\\nprint (len(train_sentiment))\\nprint (train_phrases[0])'"
      ]
     },
     "execution_count": 10,
     "metadata": {},
     "output_type": "execute_result"
    }
   ],
   "source": [
    "\"\"\"import csv\n",
    "train_phrases = []\n",
    "train_sentiment = []\n",
    "stopwords = [ \"a\", \"about\", \"above\", \"after\", \"again\", \"against\", \"all\", \"am\", \"an\", \"and\", \"any\", \"are\", \"as\", \"at\", \"be\", \"because\", \"been\", \"before\", \"being\", \"below\", \"between\", \"both\", \"but\", \"by\", \"could\", \"did\", \"do\", \"does\", \"doing\", \"down\", \"during\", \"each\", \"few\", \"for\", \"from\", \"further\", \"had\", \"has\", \"have\", \"having\", \"he\", \"he'd\", \"he'll\", \"he's\", \"her\", \"here\", \"here's\", \"hers\", \"herself\", \"him\", \"himself\", \"his\", \"how\", \"how's\", \"i\", \"i'd\", \"i'll\", \"i'm\", \"i've\", \"if\", \"in\", \"into\", \"is\", \"it\", \"it's\", \"its\", \"itself\", \"let's\", \"me\", \"more\", \"most\", \"my\", \"myself\", \"nor\", \"of\", \"on\", \"once\", \"only\", \"or\", \"other\", \"ought\", \"our\", \"ours\", \"ourselves\", \"out\", \"over\", \"own\", \"same\", \"she\", \"she'd\", \"she'll\", \"she's\", \"should\", \"so\", \"some\", \"such\", \"than\", \"that\", \"that's\", \"the\", \"their\", \"theirs\", \"them\", \"themselves\", \"then\", \"there\", \"there's\", \"these\", \"they\", \"they'd\", \"they'll\", \"they're\", \"they've\", \"this\", \"those\", \"through\", \"to\", \"too\", \"under\", \"until\", \"up\", \"very\", \"was\", \"we\", \"we'd\", \"we'll\", \"we're\", \"we've\", \"were\", \"what\", \"what's\", \"when\", \"when's\", \"where\", \"where's\", \"which\", \"while\", \"who\", \"who's\", \"whom\", \"why\", \"why's\", \"with\", \"would\", \"you\", \"you'd\", \"you'll\", \"you're\", \"you've\", \"your\", \"yours\", \"yourself\", \"yourselves\" ]\n",
    "\n",
    "train_zip = os.listdir()\n",
    "tsv_file = os.path.join(str(os.getcwd()) +'\\\\'+ train_zip[0])\n",
    "with open (tsv_file, mode = 'r') as csvfile:\n",
    "    reader = csv.reader(csvfile, delimiter ='\\t')\n",
    "    for row in reader:\n",
    "        train_sentiment.append(row[-1])\n",
    "        sentence = row[-2]\n",
    "        for word in stopwords:\n",
    "            token = \" \"+ word +\" \"\n",
    "            sentence = sentence.replace(token, \" \")\n",
    "        train_phrases.append(sentence)\n",
    "\n",
    "print (len(train_phrases))\n",
    "print (len(train_sentiment))\n",
    "print (train_phrases[0])\"\"\"\n"
   ]
  },
  {
   "cell_type": "code",
   "execution_count": 11,
   "metadata": {},
   "outputs": [],
   "source": [
    "import time"
   ]
  },
  {
   "cell_type": "code",
   "execution_count": 12,
   "metadata": {},
   "outputs": [
    {
     "name": "stdout",
     "output_type": "stream",
     "text": [
      "<class 'list'>\n",
      "<generator object <genexpr> at 0x0000022357A3A660>\n"
     ]
    }
   ],
   "source": [
    "data_tuple = [(x, y) for x, y in zip(pdf['Phrase'], pdf['Sentiment'])]\n",
    "print(type(data_tuple))\n",
    "print(x.lower() for x, y in (data_tuple[0]))"
   ]
  },
  {
   "cell_type": "code",
   "execution_count": 13,
   "metadata": {
    "pycharm": {
     "name": "#%%\n"
    }
   },
   "outputs": [
    {
     "name": "stdout",
     "output_type": "stream",
     "text": [
      "time taken: 0.546875\n",
      "<class 'list'> <class 'numpy.ndarray'>\n",
      "<class 'numpy.int32'>\n"
     ]
    }
   ],
   "source": [
    "stopwords = [ \"a\", \"about\", \"above\", \"after\", \"again\", \"against\", \"all\", \"am\", \"an\", \"and\", \"any\", \"are\", \"as\", \"at\", \"be\", \"because\", \"been\", \"before\", \"being\", \"below\", \"between\", \"both\", \"but\", \"by\", \"could\", \"did\", \"do\", \"does\", \"doing\", \"down\", \"during\", \"each\", \"few\", \"for\", \"from\", \"further\", \"had\", \"has\", \"have\", \"having\", \"he\", \"he'd\", \"he'll\", \"he's\", \"her\", \"here\", \"here's\", \"hers\", \"herself\", \"him\", \"himself\", \"his\", \"how\", \"how's\", \"i\", \"i'd\", \"i'll\", \"i'm\", \"i've\", \"if\", \"in\", \"into\", \"is\", \"it\", \"it's\", \"its\", \"itself\", \"let's\", \"me\", \"more\", \"most\", \"my\", \"myself\", \"nor\", \"of\", \"on\", \"once\", \"only\", \"or\", \"other\", \"ought\", \"our\", \"ours\", \"ourselves\", \"out\", \"over\", \"own\", \"same\", \"she\", \"she'd\", \"she'll\", \"she's\", \"should\", \"so\", \"some\", \"such\", \"than\", \"that\", \"that's\", \"the\", \"their\", \"theirs\", \"them\", \"themselves\", \"then\", \"there\", \"there's\", \"these\", \"they\", \"they'd\", \"they'll\", \"they're\", \"they've\", \"this\", \"those\", \"through\", \"to\", \"too\", \"under\", \"until\", \"up\", \"very\", \"was\", \"we\", \"we'd\", \"we'll\", \"we're\", \"we've\", \"were\", \"what\", \"what's\", \"when\", \"when's\", \"where\", \"where's\", \"which\", \"while\", \"who\", \"who's\", \"whom\", \"why\", \"why's\", \"with\", \"would\", \"you\", \"you'd\", \"you'll\", \"you're\", \"you've\", \"your\", \"yours\", \"yourself\", \"yourselves\" ]\n",
    "\n",
    "import time\n",
    "\n",
    "def data_distribution_standardisation(DataFrame):\n",
    "    phrases = [DataFrame[:,0][x].lower() for x in range(len(DataFrame))]\n",
    "    sentiments = np.array([DataFrame[:,1][y] for y in range(len(DataFrame))])\n",
    "    \n",
    "    for word in stopwords:\n",
    "        token = \" \"+ word +\" \"\n",
    "        phrases = [phrases[i].replace(token, \" \") for i in range(len(phrases))]\n",
    "\n",
    "    return phrases, sentiments\n",
    "\n",
    "train_ds, train_labels = data_distribution_standardisation(training_set)\n",
    "val_ds, val_labels = data_distribution_standardisation(validation_set)\n",
    "t0 = time.process_time()\n",
    "test_ds, test_labels = data_distribution_standardisation(test_set)\n",
    "t1 = time.process_time()\n",
    "print('time taken: {}'.format(t1 - t0))\n",
    "print(type(train_ds), type(train_labels))\n",
    "print(type(train_labels[0]))"
   ]
  },
  {
   "cell_type": "code",
   "execution_count": 14,
   "metadata": {},
   "outputs": [],
   "source": [
    "from tensorflow.keras.preprocessing.text import Tokenizer\n",
    "from tensorflow.keras.preprocessing.sequence import pad_sequences"
   ]
  },
  {
   "cell_type": "code",
   "execution_count": 15,
   "metadata": {
    "pycharm": {
     "name": "#%%\n"
    }
   },
   "outputs": [
    {
     "name": "stdout",
     "output_type": "stream",
     "text": [
      "There are more than 10,000 tokens! This may take longer to compute!\n",
      "[    4   268 12980  5316  5841    19  2460     0     0     0     0     0\n",
      "     0     0     0     0     0     0     0     0     0     0     0     0\n",
      "     0     0     0     0     0     0     0     0     0] 13605 <class 'list'>\n",
      "[ 936    2   78 3641 3919    0    0    0    0    0    0    0    0    0\n",
      "    0    0    0    0    0    0    0    0    0    0    0    0    0    0] 4423 [[936, 2, 78, 3641, 3919], [2, 78, 3641, 3919]]\n",
      "[  3 198 637   0   0   0   0   0   0   0   0   0   0   0   0   0   0   0\n",
      "   0   0   0   0   0   0   0   0   0   0   0   0   0   0] 4417 [3, 198, 637]\n",
      "<class 'numpy.ndarray'>\n",
      "[[4, 268, 12980, 5316, 5841, 19, 2460], [4, 268], [4], [268], [8, 12980, 5316, 5841, 19, 2460], [8], [12980, 5316, 5841, 19, 2460], [12980], [5316, 5841, 19, 2460], [5316, 5841]]\n"
     ]
    }
   ],
   "source": [
    "def tokenizing_dataset(dataset):\n",
    "    tokenizer = Tokenizer(filters='!\"#$%&()*+,-./:;<=>?@[\\\\]^_`{|}~\\t\\n', lower=True,oov_token= '<00V>')\n",
    "    tokenizer.fit_on_texts(dataset)\n",
    "    word_index = tokenizer.word_index\n",
    "    if len(word_index)>= 10000:\n",
    "        print ('There are more than 10,000 tokens! This may take longer to compute!')\n",
    "    \n",
    "    # Now I have tokenized sentences using text_to_sequences and therafter padded to make them all at the same length\n",
    "    sequences = tokenizer.texts_to_sequences(dataset)\n",
    "    padded_sentences = pad_sequences(sequences, padding='post')\n",
    "    \n",
    "    return padded_sentences, word_index, sequences\n",
    "\n",
    "padded_train, train_word_index, train_sequence = tokenizing_dataset(train_ds)\n",
    "padded_val, val_word_index, val_sequence = tokenizing_dataset(val_ds)\n",
    "padded_test, test_word_index, test_sequence = tokenizing_dataset(test_ds)\n",
    "\n",
    "print (padded_train[0], len(train_word_index), type(train_sequence))\n",
    "print (padded_val[0], len(val_word_index), val_sequence[0:2])\n",
    "print (padded_test[0], len(test_word_index), test_sequence[0])\n",
    "print (type(padded_train))\n",
    "print(train_sequence[0:10])\n"
   ]
  },
  {
   "cell_type": "code",
   "execution_count": 16,
   "metadata": {
    "pycharm": {
     "name": "#%%\n"
    }
   },
   "outputs": [
    {
     "name": "stdout",
     "output_type": "stream",
     "text": [
      "3553 870\n"
     ]
    }
   ],
   "source": [
    "matching = 0\n",
    "non_matching = 0\n",
    "for key in val_word_index.keys():\n",
    "    if key in train_word_index.keys():\n",
    "        matching += 1\n",
    "    else:\n",
    "        non_matching +=1\n",
    "        \n",
    "print (matching, non_matching)"
   ]
  },
  {
   "cell_type": "code",
   "execution_count": 17,
   "metadata": {},
   "outputs": [
    {
     "data": {
      "text/plain": [
       "list"
      ]
     },
     "execution_count": 17,
     "metadata": {},
     "output_type": "execute_result"
    }
   ],
   "source": [
    "type(train_sequence)"
   ]
  },
  {
   "cell_type": "code",
   "execution_count": 18,
   "metadata": {},
   "outputs": [
    {
     "data": {
      "text/plain": [
       "'print(train_sequence[1:10])\\nreversed_index = dict(map(reversed, word_index.items()))\\n\\n# Creating a reverse dictionary\\nreverse_word_map = dict(map(reversed, tokenizer.word_index.items()))\\n\\n# Function takes a tokenized sentence and returns the words\\ndef sequence_to_text(list_of_indices):\\n    # Looking up words in dictionary\\n    words = [reverse_word_map.get(letter) for letter in list_of_indices]\\n    return(words)'"
      ]
     },
     "execution_count": 18,
     "metadata": {},
     "output_type": "execute_result"
    }
   ],
   "source": [
    "\"\"\"print(train_sequence[1:10])\n",
    "reversed_index = dict(map(reversed, word_index.items()))\n",
    "\n",
    "# Creating a reverse dictionary\n",
    "reverse_word_map = dict(map(reversed, tokenizer.word_index.items()))\n",
    "\n",
    "# Function takes a tokenized sentence and returns the words\n",
    "def sequence_to_text(list_of_indices):\n",
    "    # Looking up words in dictionary\n",
    "    words = [reverse_word_map.get(letter) for letter in list_of_indices]\n",
    "    return(words)\"\"\""
   ]
  },
  {
   "cell_type": "code",
   "execution_count": 19,
   "metadata": {
    "pycharm": {
     "name": "#%%\n"
    }
   },
   "outputs": [
    {
     "name": "stdout",
     "output_type": "stream",
     "text": [
      "a series escapades demonstrating adage good goose\n",
      "a series escapades demonstrating adage good goose\n"
     ]
    }
   ],
   "source": [
    "def decoding_sequences(word_index, sequences):\n",
    "    reversed_index = dict(map(reversed, word_index.items()))\n",
    "    for letter in range(len(sequences)):\n",
    "        reversed_index.get(letter) \n",
    "    reversed_sequence = [reversed_index.get(letter) for letter in sequences]\n",
    "    return (' '.join(reversed_sequence))\n",
    "    \n",
    "print(decoding_sequences(train_word_index, train_sequence[0]))\n",
    "print(train_ds[0])"
   ]
  },
  {
   "cell_type": "code",
   "execution_count": 20,
   "metadata": {},
   "outputs": [
    {
     "data": {
      "text/plain": [
       "(33,)"
      ]
     },
     "execution_count": 20,
     "metadata": {},
     "output_type": "execute_result"
    }
   ],
   "source": [
    "padded_train[0].shape"
   ]
  },
  {
   "cell_type": "code",
   "execution_count": 25,
   "metadata": {},
   "outputs": [
    {
     "name": "stdout",
     "output_type": "stream",
     "text": [
      "Model: \"sequential_2\"\n",
      "_________________________________________________________________\n",
      "Layer (type)                 Output Shape              Param #   \n",
      "=================================================================\n",
      "embedding_2 (Embedding)      (None, 33, 32)            435360    \n",
      "_________________________________________________________________\n",
      "flatten_2 (Flatten)          (None, 1056)              0         \n",
      "_________________________________________________________________\n",
      "dense_4 (Dense)              (None, 16)                16912     \n",
      "_________________________________________________________________\n",
      "dense_5 (Dense)              (None, 5)                 85        \n",
      "=================================================================\n",
      "Total params: 452,357\n",
      "Trainable params: 452,357\n",
      "Non-trainable params: 0\n",
      "_________________________________________________________________\n"
     ]
    }
   ],
   "source": [
    "\n",
    "vocabulary_size = len(train_word_index)\n",
    "embedding_dim = 32\n",
    "max_length = len(padded_train[0])\n",
    "trunc_type = 'post'\n",
    "oov_tok = '<00V>'\n",
    "\n",
    "model = tf.keras.Sequential([\n",
    "    \n",
    "    tf.keras.layers.Embedding(vocabulary_size, embedding_dim, input_length=max_length),\n",
    "    tf.keras.layers.Flatten(),\n",
    "    tf.keras.layers.Dense(16, activation=\"relu\"),\n",
    "    tf.keras.layers.Dense(5, activation ='sigmoid')\n",
    "])\n",
    "\n",
    "model.compile(loss=tf.keras.losses.SparseCategoricalCrossentropy(), optimizer = \"adam\", metrics= ['accuracy'])\n",
    "model.summary()"
   ]
  },
  {
   "cell_type": "code",
   "execution_count": 26,
   "metadata": {},
   "outputs": [
    {
     "name": "stdout",
     "output_type": "stream",
     "text": [
      "2962/3902 [=====================>........] - ETA: 7s - loss: 1.1668 - accuracy: 0.5438"
     ]
    },
    {
     "ename": "InvalidArgumentError",
     "evalue": " indices[29,0] = 13605 is not in [0, 13605)\n\t [[node sequential_2/embedding_2/embedding_lookup (defined at <ipython-input-26-9dcef78fb9c0>:2) ]] [Op:__inference_train_function_1414]\n\nErrors may have originated from an input operation.\nInput Source operations connected to node sequential_2/embedding_2/embedding_lookup:\n sequential_2/embedding_2/embedding_lookup/1207 (defined at C:\\Users\\eq\\AppData\\Local\\Programs\\Python\\Python38\\lib\\contextlib.py:113)\n\nFunction call stack:\ntrain_function\n",
     "output_type": "error",
     "traceback": [
      "\u001B[1;31m---------------------------------------------------------------------------\u001B[0m",
      "\u001B[1;31mInvalidArgumentError\u001B[0m                      Traceback (most recent call last)",
      "\u001B[1;32m<ipython-input-26-9dcef78fb9c0>\u001B[0m in \u001B[0;36m<module>\u001B[1;34m\u001B[0m\n\u001B[0;32m      1\u001B[0m \u001B[0mnum_epochs\u001B[0m \u001B[1;33m=\u001B[0m \u001B[1;36m1\u001B[0m\u001B[1;33m\u001B[0m\u001B[1;33m\u001B[0m\u001B[0m\n\u001B[1;32m----> 2\u001B[1;33m \u001B[0mmodel\u001B[0m\u001B[1;33m.\u001B[0m\u001B[0mfit\u001B[0m\u001B[1;33m(\u001B[0m\u001B[0mpadded_train\u001B[0m\u001B[1;33m,\u001B[0m \u001B[0mtrain_labels\u001B[0m\u001B[1;33m,\u001B[0m \u001B[0mepochs\u001B[0m \u001B[1;33m=\u001B[0m \u001B[0mnum_epochs\u001B[0m\u001B[1;33m,\u001B[0m \u001B[0mvalidation_data\u001B[0m \u001B[1;33m=\u001B[0m \u001B[1;33m(\u001B[0m\u001B[0mpadded_val\u001B[0m\u001B[1;33m,\u001B[0m \u001B[0mval_labels\u001B[0m\u001B[1;33m)\u001B[0m\u001B[1;33m)\u001B[0m\u001B[1;33m\u001B[0m\u001B[1;33m\u001B[0m\u001B[0m\n\u001B[0m",
      "\u001B[1;32mc:\\users\\eq\\documents\\ucl\\elec0135 alms ii\\movie-sentimental-analysis\\lib\\site-packages\\tensorflow\\python\\keras\\engine\\training.py\u001B[0m in \u001B[0;36mfit\u001B[1;34m(self, x, y, batch_size, epochs, verbose, callbacks, validation_split, validation_data, shuffle, class_weight, sample_weight, initial_epoch, steps_per_epoch, validation_steps, validation_batch_size, validation_freq, max_queue_size, workers, use_multiprocessing)\u001B[0m\n\u001B[0;32m   1098\u001B[0m                 _r=1):\n\u001B[0;32m   1099\u001B[0m               \u001B[0mcallbacks\u001B[0m\u001B[1;33m.\u001B[0m\u001B[0mon_train_batch_begin\u001B[0m\u001B[1;33m(\u001B[0m\u001B[0mstep\u001B[0m\u001B[1;33m)\u001B[0m\u001B[1;33m\u001B[0m\u001B[1;33m\u001B[0m\u001B[0m\n\u001B[1;32m-> 1100\u001B[1;33m               \u001B[0mtmp_logs\u001B[0m \u001B[1;33m=\u001B[0m \u001B[0mself\u001B[0m\u001B[1;33m.\u001B[0m\u001B[0mtrain_function\u001B[0m\u001B[1;33m(\u001B[0m\u001B[0miterator\u001B[0m\u001B[1;33m)\u001B[0m\u001B[1;33m\u001B[0m\u001B[1;33m\u001B[0m\u001B[0m\n\u001B[0m\u001B[0;32m   1101\u001B[0m               \u001B[1;32mif\u001B[0m \u001B[0mdata_handler\u001B[0m\u001B[1;33m.\u001B[0m\u001B[0mshould_sync\u001B[0m\u001B[1;33m:\u001B[0m\u001B[1;33m\u001B[0m\u001B[1;33m\u001B[0m\u001B[0m\n\u001B[0;32m   1102\u001B[0m                 \u001B[0mcontext\u001B[0m\u001B[1;33m.\u001B[0m\u001B[0masync_wait\u001B[0m\u001B[1;33m(\u001B[0m\u001B[1;33m)\u001B[0m\u001B[1;33m\u001B[0m\u001B[1;33m\u001B[0m\u001B[0m\n",
      "\u001B[1;32mc:\\users\\eq\\documents\\ucl\\elec0135 alms ii\\movie-sentimental-analysis\\lib\\site-packages\\tensorflow\\python\\eager\\def_function.py\u001B[0m in \u001B[0;36m__call__\u001B[1;34m(self, *args, **kwds)\u001B[0m\n\u001B[0;32m    826\u001B[0m     \u001B[0mtracing_count\u001B[0m \u001B[1;33m=\u001B[0m \u001B[0mself\u001B[0m\u001B[1;33m.\u001B[0m\u001B[0mexperimental_get_tracing_count\u001B[0m\u001B[1;33m(\u001B[0m\u001B[1;33m)\u001B[0m\u001B[1;33m\u001B[0m\u001B[1;33m\u001B[0m\u001B[0m\n\u001B[0;32m    827\u001B[0m     \u001B[1;32mwith\u001B[0m \u001B[0mtrace\u001B[0m\u001B[1;33m.\u001B[0m\u001B[0mTrace\u001B[0m\u001B[1;33m(\u001B[0m\u001B[0mself\u001B[0m\u001B[1;33m.\u001B[0m\u001B[0m_name\u001B[0m\u001B[1;33m)\u001B[0m \u001B[1;32mas\u001B[0m \u001B[0mtm\u001B[0m\u001B[1;33m:\u001B[0m\u001B[1;33m\u001B[0m\u001B[1;33m\u001B[0m\u001B[0m\n\u001B[1;32m--> 828\u001B[1;33m       \u001B[0mresult\u001B[0m \u001B[1;33m=\u001B[0m \u001B[0mself\u001B[0m\u001B[1;33m.\u001B[0m\u001B[0m_call\u001B[0m\u001B[1;33m(\u001B[0m\u001B[1;33m*\u001B[0m\u001B[0margs\u001B[0m\u001B[1;33m,\u001B[0m \u001B[1;33m**\u001B[0m\u001B[0mkwds\u001B[0m\u001B[1;33m)\u001B[0m\u001B[1;33m\u001B[0m\u001B[1;33m\u001B[0m\u001B[0m\n\u001B[0m\u001B[0;32m    829\u001B[0m       \u001B[0mcompiler\u001B[0m \u001B[1;33m=\u001B[0m \u001B[1;34m\"xla\"\u001B[0m \u001B[1;32mif\u001B[0m \u001B[0mself\u001B[0m\u001B[1;33m.\u001B[0m\u001B[0m_experimental_compile\u001B[0m \u001B[1;32melse\u001B[0m \u001B[1;34m\"nonXla\"\u001B[0m\u001B[1;33m\u001B[0m\u001B[1;33m\u001B[0m\u001B[0m\n\u001B[0;32m    830\u001B[0m       \u001B[0mnew_tracing_count\u001B[0m \u001B[1;33m=\u001B[0m \u001B[0mself\u001B[0m\u001B[1;33m.\u001B[0m\u001B[0mexperimental_get_tracing_count\u001B[0m\u001B[1;33m(\u001B[0m\u001B[1;33m)\u001B[0m\u001B[1;33m\u001B[0m\u001B[1;33m\u001B[0m\u001B[0m\n",
      "\u001B[1;32mc:\\users\\eq\\documents\\ucl\\elec0135 alms ii\\movie-sentimental-analysis\\lib\\site-packages\\tensorflow\\python\\eager\\def_function.py\u001B[0m in \u001B[0;36m_call\u001B[1;34m(self, *args, **kwds)\u001B[0m\n\u001B[0;32m    853\u001B[0m       \u001B[1;31m# In this case we have created variables on the first call, so we run the\u001B[0m\u001B[1;33m\u001B[0m\u001B[1;33m\u001B[0m\u001B[1;33m\u001B[0m\u001B[0m\n\u001B[0;32m    854\u001B[0m       \u001B[1;31m# defunned version which is guaranteed to never create variables.\u001B[0m\u001B[1;33m\u001B[0m\u001B[1;33m\u001B[0m\u001B[1;33m\u001B[0m\u001B[0m\n\u001B[1;32m--> 855\u001B[1;33m       \u001B[1;32mreturn\u001B[0m \u001B[0mself\u001B[0m\u001B[1;33m.\u001B[0m\u001B[0m_stateless_fn\u001B[0m\u001B[1;33m(\u001B[0m\u001B[1;33m*\u001B[0m\u001B[0margs\u001B[0m\u001B[1;33m,\u001B[0m \u001B[1;33m**\u001B[0m\u001B[0mkwds\u001B[0m\u001B[1;33m)\u001B[0m  \u001B[1;31m# pylint: disable=not-callable\u001B[0m\u001B[1;33m\u001B[0m\u001B[1;33m\u001B[0m\u001B[0m\n\u001B[0m\u001B[0;32m    856\u001B[0m     \u001B[1;32melif\u001B[0m \u001B[0mself\u001B[0m\u001B[1;33m.\u001B[0m\u001B[0m_stateful_fn\u001B[0m \u001B[1;32mis\u001B[0m \u001B[1;32mnot\u001B[0m \u001B[1;32mNone\u001B[0m\u001B[1;33m:\u001B[0m\u001B[1;33m\u001B[0m\u001B[1;33m\u001B[0m\u001B[0m\n\u001B[0;32m    857\u001B[0m       \u001B[1;31m# Release the lock early so that multiple threads can perform the call\u001B[0m\u001B[1;33m\u001B[0m\u001B[1;33m\u001B[0m\u001B[1;33m\u001B[0m\u001B[0m\n",
      "\u001B[1;32mc:\\users\\eq\\documents\\ucl\\elec0135 alms ii\\movie-sentimental-analysis\\lib\\site-packages\\tensorflow\\python\\eager\\function.py\u001B[0m in \u001B[0;36m__call__\u001B[1;34m(self, *args, **kwargs)\u001B[0m\n\u001B[0;32m   2940\u001B[0m       (graph_function,\n\u001B[0;32m   2941\u001B[0m        filtered_flat_args) = self._maybe_define_function(args, kwargs)\n\u001B[1;32m-> 2942\u001B[1;33m     return graph_function._call_flat(\n\u001B[0m\u001B[0;32m   2943\u001B[0m         filtered_flat_args, captured_inputs=graph_function.captured_inputs)  # pylint: disable=protected-access\n\u001B[0;32m   2944\u001B[0m \u001B[1;33m\u001B[0m\u001B[0m\n",
      "\u001B[1;32mc:\\users\\eq\\documents\\ucl\\elec0135 alms ii\\movie-sentimental-analysis\\lib\\site-packages\\tensorflow\\python\\eager\\function.py\u001B[0m in \u001B[0;36m_call_flat\u001B[1;34m(self, args, captured_inputs, cancellation_manager)\u001B[0m\n\u001B[0;32m   1916\u001B[0m         and executing_eagerly):\n\u001B[0;32m   1917\u001B[0m       \u001B[1;31m# No tape is watching; skip to running the function.\u001B[0m\u001B[1;33m\u001B[0m\u001B[1;33m\u001B[0m\u001B[1;33m\u001B[0m\u001B[0m\n\u001B[1;32m-> 1918\u001B[1;33m       return self._build_call_outputs(self._inference_function.call(\n\u001B[0m\u001B[0;32m   1919\u001B[0m           ctx, args, cancellation_manager=cancellation_manager))\n\u001B[0;32m   1920\u001B[0m     forward_backward = self._select_forward_and_backward_functions(\n",
      "\u001B[1;32mc:\\users\\eq\\documents\\ucl\\elec0135 alms ii\\movie-sentimental-analysis\\lib\\site-packages\\tensorflow\\python\\eager\\function.py\u001B[0m in \u001B[0;36mcall\u001B[1;34m(self, ctx, args, cancellation_manager)\u001B[0m\n\u001B[0;32m    553\u001B[0m       \u001B[1;32mwith\u001B[0m \u001B[0m_InterpolateFunctionError\u001B[0m\u001B[1;33m(\u001B[0m\u001B[0mself\u001B[0m\u001B[1;33m)\u001B[0m\u001B[1;33m:\u001B[0m\u001B[1;33m\u001B[0m\u001B[1;33m\u001B[0m\u001B[0m\n\u001B[0;32m    554\u001B[0m         \u001B[1;32mif\u001B[0m \u001B[0mcancellation_manager\u001B[0m \u001B[1;32mis\u001B[0m \u001B[1;32mNone\u001B[0m\u001B[1;33m:\u001B[0m\u001B[1;33m\u001B[0m\u001B[1;33m\u001B[0m\u001B[0m\n\u001B[1;32m--> 555\u001B[1;33m           outputs = execute.execute(\n\u001B[0m\u001B[0;32m    556\u001B[0m               \u001B[0mstr\u001B[0m\u001B[1;33m(\u001B[0m\u001B[0mself\u001B[0m\u001B[1;33m.\u001B[0m\u001B[0msignature\u001B[0m\u001B[1;33m.\u001B[0m\u001B[0mname\u001B[0m\u001B[1;33m)\u001B[0m\u001B[1;33m,\u001B[0m\u001B[1;33m\u001B[0m\u001B[1;33m\u001B[0m\u001B[0m\n\u001B[0;32m    557\u001B[0m               \u001B[0mnum_outputs\u001B[0m\u001B[1;33m=\u001B[0m\u001B[0mself\u001B[0m\u001B[1;33m.\u001B[0m\u001B[0m_num_outputs\u001B[0m\u001B[1;33m,\u001B[0m\u001B[1;33m\u001B[0m\u001B[1;33m\u001B[0m\u001B[0m\n",
      "\u001B[1;32mc:\\users\\eq\\documents\\ucl\\elec0135 alms ii\\movie-sentimental-analysis\\lib\\site-packages\\tensorflow\\python\\eager\\execute.py\u001B[0m in \u001B[0;36mquick_execute\u001B[1;34m(op_name, num_outputs, inputs, attrs, ctx, name)\u001B[0m\n\u001B[0;32m     57\u001B[0m   \u001B[1;32mtry\u001B[0m\u001B[1;33m:\u001B[0m\u001B[1;33m\u001B[0m\u001B[1;33m\u001B[0m\u001B[0m\n\u001B[0;32m     58\u001B[0m     \u001B[0mctx\u001B[0m\u001B[1;33m.\u001B[0m\u001B[0mensure_initialized\u001B[0m\u001B[1;33m(\u001B[0m\u001B[1;33m)\u001B[0m\u001B[1;33m\u001B[0m\u001B[1;33m\u001B[0m\u001B[0m\n\u001B[1;32m---> 59\u001B[1;33m     tensors = pywrap_tfe.TFE_Py_Execute(ctx._handle, device_name, op_name,\n\u001B[0m\u001B[0;32m     60\u001B[0m                                         inputs, attrs, num_outputs)\n\u001B[0;32m     61\u001B[0m   \u001B[1;32mexcept\u001B[0m \u001B[0mcore\u001B[0m\u001B[1;33m.\u001B[0m\u001B[0m_NotOkStatusException\u001B[0m \u001B[1;32mas\u001B[0m \u001B[0me\u001B[0m\u001B[1;33m:\u001B[0m\u001B[1;33m\u001B[0m\u001B[1;33m\u001B[0m\u001B[0m\n",
      "\u001B[1;31mInvalidArgumentError\u001B[0m:  indices[29,0] = 13605 is not in [0, 13605)\n\t [[node sequential_2/embedding_2/embedding_lookup (defined at <ipython-input-26-9dcef78fb9c0>:2) ]] [Op:__inference_train_function_1414]\n\nErrors may have originated from an input operation.\nInput Source operations connected to node sequential_2/embedding_2/embedding_lookup:\n sequential_2/embedding_2/embedding_lookup/1207 (defined at C:\\Users\\eq\\AppData\\Local\\Programs\\Python\\Python38\\lib\\contextlib.py:113)\n\nFunction call stack:\ntrain_function\n"
     ]
    }
   ],
   "source": [
    "num_epochs = 1\n",
    "model.fit(padded_train, train_labels, epochs = num_epochs, validation_data = (padded_val, val_labels))"
   ]
  },
  {
   "cell_type": "code",
   "execution_count": null,
   "metadata": {},
   "outputs": [],
   "source": []
  }
 ],
 "metadata": {
  "kernelspec": {
   "display_name": "Python 3",
   "language": "python",
   "name": "python3"
  },
  "language_info": {
   "codemirror_mode": {
    "name": "ipython",
    "version": 3
   },
   "file_extension": ".py",
   "mimetype": "text/x-python",
   "name": "python",
   "nbconvert_exporter": "python",
   "pygments_lexer": "ipython3",
   "version": "3.8.8"
  }
 },
 "nbformat": 4,
 "nbformat_minor": 1
}