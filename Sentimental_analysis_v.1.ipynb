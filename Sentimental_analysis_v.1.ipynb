{
  "nbformat": 4,
  "nbformat_minor": 0,
  "metadata": {
    "kernelspec": {
      "display_name": "Python 3",
      "language": "python",
      "name": "python3"
    },
    "language_info": {
      "codemirror_mode": {
        "name": "ipython",
        "version": 3
      },
      "file_extension": ".py",
      "mimetype": "text/x-python",
      "name": "python",
      "nbconvert_exporter": "python",
      "pygments_lexer": "ipython3",
      "version": "3.8.8"
    },
    "colab": {
      "name": "Copy of IMDB_analysis.ipynb",
      "provenance": [],
      "include_colab_link": true
    },
    "accelerator": "GPU"
  },
  "cells": [
    {
      "cell_type": "markdown",
      "metadata": {
        "id": "view-in-github",
        "colab_type": "text"
      },
      "source": [
        "<a href=\"https://colab.research.google.com/github/skauntey/movie-sentiment-analysis/blob/ALMS/Sentimental_analysis_v.1.ipynb\" target=\"_parent\"><img src=\"https://colab.research.google.com/assets/colab-badge.svg\" alt=\"Open In Colab\"/></a>"
      ]
    },
    {
      "cell_type": "code",
      "metadata": {
        "id": "QW_xBkEN2Xge"
      },
      "source": [
        ""
      ],
      "execution_count": null,
      "outputs": []
    },
    {
      "cell_type": "code",
      "metadata": {
        "id": "_LvNjbXGwGEn"
      },
      "source": [
        "!echo '{\"username\":\"kaunteyshah\",\"key\":\"e2678a9d0e44e057000b9daf059111b5\"}' > ~/.kaggle/kaggle.json\n",
        "!chmod 600 ~/.kaggle/kaggle.json"
      ],
      "execution_count": null,
      "outputs": []
    },
    {
      "cell_type": "code",
      "metadata": {
        "id": "Ix-DSBh2oDB0"
      },
      "source": [
        "import tensorflow as tf\n",
        "import pandas as pd\n",
        "import numpy as np\n",
        "import os, shutil\n",
        "import kaggle"
      ],
      "execution_count": null,
      "outputs": []
    },
    {
      "cell_type": "markdown",
      "metadata": {
        "pycharm": {
          "is_executing": true,
          "name": "#%% md\n"
        },
        "id": "0Vz1BA0xoDCW"
      },
      "source": [
        "#### 1. Downloading Kaggle files"
      ]
    },
    {
      "cell_type": "code",
      "metadata": {
        "id": "9jQb0Z80yjeT"
      },
      "source": [
        "file = 'dataset/'\n",
        "for files in os.listdir(file):\n",
        "    path = os.path.join(os.getcwd()+'/'+'dataset/',files)\n",
        "    try:\n",
        "        shutil.rmtree(path)\n",
        "    except:\n",
        "      raise"
      ],
      "execution_count": null,
      "outputs": []
    },
    {
      "cell_type": "code",
      "metadata": {
        "pycharm": {
          "name": "#%%\n"
        },
        "id": "N6fajUBQoDCX"
      },
      "source": [
        "kaggle.api.authenticate()\n",
        "kaggle.api.competition_download_files('sentiment-analysis-on-movie-reviews', path= str(os.getcwd())+\"/dataset/\", force = True)"
      ],
      "execution_count": null,
      "outputs": []
    },
    {
      "cell_type": "markdown",
      "metadata": {
        "pycharm": {
          "name": "#%% md\n"
        },
        "id": "YsVVPfE6oDCa"
      },
      "source": [
        "#### 2. Unzipping Kaggle files"
      ]
    },
    {
      "cell_type": "code",
      "metadata": {
        "pycharm": {
          "name": "#%%\n"
        },
        "id": "r7L-RkzGoDCd"
      },
      "source": [
        "import zipfile\n",
        "ziped_file = r'dataset/sentiment-analysis-on-movie-reviews.zip'\n",
        "with zipfile.ZipFile(ziped_file) as zip_file:\n",
        "    for member in zip_file.namelist():\n",
        "        if member.split('.')[-1] == \"zip\":\n",
        "            fdir = member.split('.')[0]\n",
        "            zip_file.extract(member, path= os.path.join('dataset/'+fdir))\n",
        "            # extracting individual train and test files in their respective folders\n",
        "            zippedfile_name = os.listdir(os.path.join(str(os.getcwd()+'/dataset/'+fdir+'/')))\n",
        "            zippedfile = os.path.join(str(os.getcwd())+'/dataset/'+ fdir, zippedfile_name[0])\n",
        "            with zipfile.ZipFile(zippedfile, mode='r') as tsv_zip:\n",
        "                tsv_zip.extractall(path = os.path.join('dataset/'+fdir+'/'))\n",
        "                \n",
        "            os.remove(zippedfile)\n",
        "        else:\n",
        "            continue\n",
        "            \n",
        "os.remove(ziped_file)\n"
      ],
      "execution_count": null,
      "outputs": []
    },
    {
      "cell_type": "markdown",
      "metadata": {
        "pycharm": {
          "name": "#%% md\n"
        },
        "id": "XR-Gq7oRoDCg"
      },
      "source": [
        "#### 3. Testing files"
      ]
    },
    {
      "cell_type": "code",
      "metadata": {
        "pycharm": {
          "name": "#%%\n"
        },
        "id": "cYK76UoboDCh",
        "colab": {
          "base_uri": "https://localhost:8080/"
        },
        "outputId": "e9025430-feba-4aba-9fe7-1e9d1115df43"
      },
      "source": [
        "tsvfile = 'dataset/train/train.tsv'\n",
        "# read the data\n",
        "tsv_read = pd.read_csv(tsvfile, sep=\"\\t\")\n",
        "pdf = pd.DataFrame(tsv_read, columns=['Phrase', 'Sentiment'], index= None)\n",
        "print (set(pdf['Sentiment']))"
      ],
      "execution_count": null,
      "outputs": [
        {
          "output_type": "stream",
          "text": [
            "{0, 1, 2, 3, 4}\n"
          ],
          "name": "stdout"
        }
      ]
    },
    {
      "cell_type": "code",
      "metadata": {
        "pycharm": {
          "name": "#%%\n"
        },
        "id": "nmOJZSQ7oDCi",
        "colab": {
          "base_uri": "https://localhost:8080/"
        },
        "outputId": "b934348d-72b4-41b6-cbd6-bfc461b53a28"
      },
      "source": [
        "train_split = 0.8\n",
        "val_split = 0.2\n",
        "test_split = 0\n",
        "\n",
        "training_mark = int(abs(len(pdf) * train_split))\n",
        "# validation_mark = np.add(training_mark, int(abs(len(pdf)) * val_split))\n",
        "\n",
        "print(training_mark)\n",
        "print(validation_mark)\n",
        "\n",
        "training_set = np.array(pdf.loc[1:training_mark])\n",
        "validation_set = np.array(pdf.loc[training_mark:]) # pdf.loc[training_mark:validation_mark]\n",
        "# test_set = np.array(pdf.loc[validation_mark:])\n",
        "\n",
        "print(training_set.shape)\n",
        "print(validation_set.shape)\n",
        "print(test_set.shape)\n"
      ],
      "execution_count": null,
      "outputs": [
        {
          "output_type": "stream",
          "text": [
            "124848\n",
            "156060\n",
            "(124848, 2)\n",
            "(31212, 2)\n",
            "(0, 2)\n"
          ],
          "name": "stdout"
        }
      ]
    },
    {
      "cell_type": "code",
      "metadata": {
        "pycharm": {
          "name": "#%%\n"
        },
        "id": "SIioHQ7OoDCt",
        "colab": {
          "base_uri": "https://localhost:8080/"
        },
        "outputId": "f0985248-154c-4118-c7e0-b3e9b5374ee8"
      },
      "source": [
        "stopwords = [ \"a\", \"about\", \"above\", \"after\", \"again\", \"against\", \"all\", \"am\", \"an\", \"and\", \"any\", \"are\", \"as\", \"at\", \"be\", \"because\", \"been\", \"before\", \"being\", \"below\", \"between\", \"both\", \"but\", \"by\", \"could\", \"did\", \"do\", \"does\", \"doing\", \"down\", \"during\", \"each\", \"few\", \"for\", \"from\", \"further\", \"had\", \"has\", \"have\", \"having\", \"he\", \"he'd\", \"he'll\", \"he's\", \"her\", \"here\", \"here's\", \"hers\", \"herself\", \"him\", \"himself\", \"his\", \"how\", \"how's\", \"i\", \"i'd\", \"i'll\", \"i'm\", \"i've\", \"if\", \"in\", \"into\", \"is\", \"it\", \"it's\", \"its\", \"itself\", \"let's\", \"me\", \"more\", \"most\", \"my\", \"myself\", \"nor\", \"of\", \"on\", \"once\", \"only\", \"or\", \"other\", \"ought\", \"our\", \"ours\", \"ourselves\", \"out\", \"over\", \"own\", \"same\", \"she\", \"she'd\", \"she'll\", \"she's\", \"should\", \"so\", \"some\", \"such\", \"than\", \"that\", \"that's\", \"the\", \"their\", \"theirs\", \"them\", \"themselves\", \"then\", \"there\", \"there's\", \"these\", \"they\", \"they'd\", \"they'll\", \"they're\", \"they've\", \"this\", \"those\", \"through\", \"to\", \"too\", \"under\", \"until\", \"up\", \"very\", \"was\", \"we\", \"we'd\", \"we'll\", \"we're\", \"we've\", \"were\", \"what\", \"what's\", \"when\", \"when's\", \"where\", \"where's\", \"which\", \"while\", \"who\", \"who's\", \"whom\", \"why\", \"why's\", \"with\", \"would\", \"you\", \"you'd\", \"you'll\", \"you're\", \"you've\", \"your\", \"yours\", \"yourself\", \"yourselves\" ]\n",
        "\n",
        "import time\n",
        "\n",
        "def data_distribution_standardisation(DataFrame):\n",
        "    phrases = [DataFrame[:,0][x].lower() for x in range(len(DataFrame))]\n",
        "    sentiments = np.array([DataFrame[:,1][y] for y in range(len(DataFrame))])\n",
        "    \n",
        "    for word in stopwords:\n",
        "        token = \" \"+ word +\" \"\n",
        "        phrases = [phrases[i].replace(token, \" \") for i in range(len(phrases))]\n",
        "\n",
        "    return phrases, sentiments\n",
        "\n",
        "train_ds, train_labels = data_distribution_standardisation(training_set)\n",
        "t0 = time.process_time()\n",
        "val_ds, val_labels = data_distribution_standardisation(validation_set)\n",
        "t1 = time.process_time()\n",
        "print('time taken: {}'.format(t1 - t0))\n",
        "print(type(train_ds), type(train_labels))\n",
        "print(type(train_labels[0]))\n",
        "print(len(train_labels))\n",
        "print(train_labels[:10])"
      ],
      "execution_count": null,
      "outputs": [
        {
          "output_type": "stream",
          "text": [
            "time taken: 1.048165243000767\n",
            "<class 'list'> <class 'numpy.ndarray'>\n",
            "<class 'numpy.int64'>\n",
            "124848\n",
            "[2 2 2 2 2 2 2 2 2 2]\n"
          ],
          "name": "stdout"
        }
      ]
    },
    {
      "cell_type": "code",
      "metadata": {
        "id": "yUk06XL8oDCu"
      },
      "source": [
        "from tensorflow.keras.preprocessing.text import Tokenizer\n",
        "from tensorflow.keras.preprocessing.sequence import pad_sequences"
      ],
      "execution_count": null,
      "outputs": []
    },
    {
      "cell_type": "code",
      "metadata": {
        "pycharm": {
          "name": "#%%\n"
        },
        "id": "awMVUcF1oDCv",
        "colab": {
          "base_uri": "https://localhost:8080/"
        },
        "outputId": "fd394ec0-cc0e-4897-cbf1-90a1bd8d5bda"
      },
      "source": [
        "\n",
        "def tokenizing_dataset(dataset):\n",
        "    tokenizer = Tokenizer(num_words = 10000, filters='!\"#$%&()*+,-./:;<=>?@[\\\\]^_`{|}~\\t\\n', oov_token= '<00V>')\n",
        "    tokenizer.fit_on_texts(dataset)\n",
        "    word_index = tokenizer.word_index\n",
        "    if len(word_index)>= 10000:\n",
        "        print ('There are more than 10,000 tokens! This may take longer to compute!')\n",
        "    \n",
        "    # Now I have tokenized sentences using text_to_sequences and therafter padded to make them all at the same length\n",
        "    sequences = tokenizer.texts_to_sequences(dataset)\n",
        "    padded_sentences = pad_sequences(sequences, maxlen=30, truncating ='post', padding='post')\n",
        "    \n",
        "    return padded_sentences, word_index, sequences\n",
        "\n",
        "padded_train, train_word_index, train_sequence = tokenizing_dataset(train_ds)\n",
        "padded_val, val_word_index, val_sequence = tokenizing_dataset(val_ds)\n",
        "padded_test, test_word_index, test_sequence = tokenizing_dataset(test_ds)\n",
        "\n",
        "print (padded_train[0], len(train_word_index), type(train_sequence))\n",
        "print (padded_val[0], len(val_word_index), val_sequence[0])\n",
        "print (type(padded_train))\n",
        "print(train_sequence[0:10])\n",
        "print(len(padded_train[0]))\n",
        "print(len(padded_val[0]))\n"
      ],
      "execution_count": null,
      "outputs": [
        {
          "output_type": "stream",
          "text": [
            "There are more than 10,000 tokens! This may take longer to compute!\n",
            "[   4  268    1 5316 5841   19 2460    0    0    0    0    0    0    0\n",
            "    0    0    0    0    0    0    0    0    0    0    0    0    0    0\n",
            "    0    0] 13605 <class 'list'>\n",
            "[ 720    2   70 5838  363    0    0    0    0    0    0    0    0    0\n",
            "    0    0    0    0    0    0    0    0    0    0    0    0    0    0\n",
            "    0    0] 6825 [720, 2, 70, 5838, 363]\n",
            "<class 'numpy.ndarray'>\n",
            "[[4, 268, 1, 5316, 5841, 19, 2460], [4, 268], [4], [268], [8, 1, 5316, 5841, 19, 2460], [8], [1, 5316, 5841, 19, 2460], [1], [5316, 5841, 19, 2460], [5316, 5841]]\n",
            "30\n",
            "30\n"
          ],
          "name": "stdout"
        }
      ]
    },
    {
      "cell_type": "code",
      "metadata": {
        "pycharm": {
          "name": "#%%\n"
        },
        "id": "oxc6OWdcoDCw",
        "colab": {
          "base_uri": "https://localhost:8080/"
        },
        "outputId": "3bbb945e-b0d6-4313-bd6b-fe2d5dee4750"
      },
      "source": [
        "matching = 0\n",
        "non_matching = 0\n",
        "for key in val_word_index.keys():\n",
        "    if key in train_word_index.keys():\n",
        "        matching += 1\n",
        "    else:\n",
        "        non_matching +=1\n",
        "        \n",
        "print (matching, non_matching)"
      ],
      "execution_count": null,
      "outputs": [
        {
          "output_type": "stream",
          "text": [
            "5141 1684\n"
          ],
          "name": "stdout"
        }
      ]
    },
    {
      "cell_type": "code",
      "metadata": {
        "id": "nELsJEvVoDCy",
        "colab": {
          "base_uri": "https://localhost:8080/"
        },
        "outputId": "f02771a8-af8a-4b55-acf5-1992d19352ec"
      },
      "source": [
        "type(train_sequence)"
      ],
      "execution_count": null,
      "outputs": [
        {
          "output_type": "execute_result",
          "data": {
            "text/plain": [
              "list"
            ]
          },
          "metadata": {
            "tags": []
          },
          "execution_count": 177
        }
      ]
    },
    {
      "cell_type": "code",
      "metadata": {
        "pycharm": {
          "name": "#%%\n"
        },
        "id": "9sw8ipL5oDC0",
        "colab": {
          "base_uri": "https://localhost:8080/"
        },
        "outputId": "63bd679f-75c6-4458-8e51-778ecea4973b"
      },
      "source": [
        "def decoding_sequences(word_index, sequences):\n",
        "    reversed_index = dict(map(reversed, word_index.items()))\n",
        "    for letter in range(len(sequences)):\n",
        "        reversed_index.get(letter) \n",
        "    reversed_sequence = [reversed_index.get(letter) for letter in sequences]\n",
        "    return (' '.join(reversed_sequence))\n",
        "    \n",
        "print(decoding_sequences(train_word_index, train_sequence[0]))\n",
        "print(train_ds[0])"
      ],
      "execution_count": null,
      "outputs": [
        {
          "output_type": "stream",
          "text": [
            "a series <00V> demonstrating adage good goose\n",
            "a series escapades demonstrating adage good goose\n"
          ],
          "name": "stdout"
        }
      ]
    },
    {
      "cell_type": "code",
      "metadata": {
        "id": "pV0d1C-OvYdW",
        "colab": {
          "base_uri": "https://localhost:8080/"
        },
        "outputId": "6e0f1c24-2b3c-4238-b074-a02a365481da"
      },
      "source": [
        "len(train_word_index)"
      ],
      "execution_count": null,
      "outputs": [
        {
          "output_type": "execute_result",
          "data": {
            "text/plain": [
              "13605"
            ]
          },
          "metadata": {
            "tags": []
          },
          "execution_count": 179
        }
      ]
    },
    {
      "cell_type": "code",
      "metadata": {
        "id": "Bip8i0ExoDC2",
        "colab": {
          "base_uri": "https://localhost:8080/"
        },
        "outputId": "ee1a46ab-3686-4c73-e385-228a627e8174"
      },
      "source": [
        "vocabulary_size = 10000 #len(padded_train)\n",
        "embedding_dim = 16\n",
        "max_length = 30\n",
        "trunc_type = 'post'\n",
        "oov_tok = '<00V>'\n",
        "\n",
        "model = tf.keras.Sequential([\n",
        "    \n",
        "    tf.keras.layers.Embedding(vocabulary_size, embedding_dim, input_length=max_length),\n",
        "    tf.keras.layers.Flatten(),\n",
        "    #tf.keras.layers.GlobalAveragePooling1D(),\n",
        "    tf.keras.layers.Dense(24, activation=\"relu\"),\n",
        "    tf.keras.layers.Dense(5, activation ='sigmoid')\n",
        "])\n",
        "\n",
        "model.compile(loss=tf.keras.losses.SparseCategoricalCrossentropy(), optimizer='adam', metrics= ['accuracy'])\n",
        "model.summary()"
      ],
      "execution_count": null,
      "outputs": [
        {
          "output_type": "stream",
          "text": [
            "Model: \"sequential_30\"\n",
            "_________________________________________________________________\n",
            "Layer (type)                 Output Shape              Param #   \n",
            "=================================================================\n",
            "embedding_30 (Embedding)     (None, 30, 16)            160000    \n",
            "_________________________________________________________________\n",
            "flatten_26 (Flatten)         (None, 480)               0         \n",
            "_________________________________________________________________\n",
            "dense_61 (Dense)             (None, 24)                11544     \n",
            "_________________________________________________________________\n",
            "dense_62 (Dense)             (None, 5)                 125       \n",
            "=================================================================\n",
            "Total params: 171,669\n",
            "Trainable params: 171,669\n",
            "Non-trainable params: 0\n",
            "_________________________________________________________________\n"
          ],
          "name": "stdout"
        }
      ]
    },
    {
      "cell_type": "code",
      "metadata": {
        "id": "NjTyKxhioDC3",
        "colab": {
          "base_uri": "https://localhost:8080/"
        },
        "outputId": "c126a391-9d30-453e-bd38-7c95ef291173"
      },
      "source": [
        "num_epochs = 30\n",
        "history = model.fit(padded_train, train_labels, epochs = num_epochs, validation_data = (padded_val, val_labels))"
      ],
      "execution_count": null,
      "outputs": [
        {
          "output_type": "stream",
          "text": [
            "Epoch 1/30\n",
            "3902/3902 [==============================] - 17s 4ms/step - loss: 1.1184 - accuracy: 0.5593 - val_loss: 1.6146 - val_accuracy: 0.4308\n",
            "Epoch 2/30\n",
            "3902/3902 [==============================] - 16s 4ms/step - loss: 0.7905 - accuracy: 0.6809 - val_loss: 1.8210 - val_accuracy: 0.4263\n",
            "Epoch 3/30\n",
            "3902/3902 [==============================] - 16s 4ms/step - loss: 0.6957 - accuracy: 0.7197 - val_loss: 1.9164 - val_accuracy: 0.4075\n",
            "Epoch 4/30\n",
            "3902/3902 [==============================] - 16s 4ms/step - loss: 0.6276 - accuracy: 0.7472 - val_loss: 2.1064 - val_accuracy: 0.4088\n",
            "Epoch 5/30\n",
            "3902/3902 [==============================] - 16s 4ms/step - loss: 0.5841 - accuracy: 0.7653 - val_loss: 2.1886 - val_accuracy: 0.3958\n",
            "Epoch 6/30\n",
            "3902/3902 [==============================] - 16s 4ms/step - loss: 0.5477 - accuracy: 0.7808 - val_loss: 2.3273 - val_accuracy: 0.3973\n",
            "Epoch 7/30\n",
            "3902/3902 [==============================] - 16s 4ms/step - loss: 0.5222 - accuracy: 0.7912 - val_loss: 2.4393 - val_accuracy: 0.3964\n",
            "Epoch 8/30\n",
            "3902/3902 [==============================] - 16s 4ms/step - loss: 0.5019 - accuracy: 0.7966 - val_loss: 2.5503 - val_accuracy: 0.3963\n",
            "Epoch 9/30\n",
            "3902/3902 [==============================] - 16s 4ms/step - loss: 0.4860 - accuracy: 0.8033 - val_loss: 2.6601 - val_accuracy: 0.3908\n",
            "Epoch 10/30\n",
            "3902/3902 [==============================] - 16s 4ms/step - loss: 0.4679 - accuracy: 0.8098 - val_loss: 2.7518 - val_accuracy: 0.3883\n",
            "Epoch 11/30\n",
            "3902/3902 [==============================] - 16s 4ms/step - loss: 0.4582 - accuracy: 0.8130 - val_loss: 2.8726 - val_accuracy: 0.3885\n",
            "Epoch 12/30\n",
            "3902/3902 [==============================] - 17s 4ms/step - loss: 0.4467 - accuracy: 0.8166 - val_loss: 2.9111 - val_accuracy: 0.3856\n",
            "Epoch 13/30\n",
            "3902/3902 [==============================] - 16s 4ms/step - loss: 0.4362 - accuracy: 0.8212 - val_loss: 3.0543 - val_accuracy: 0.3927\n",
            "Epoch 14/30\n",
            "3902/3902 [==============================] - 16s 4ms/step - loss: 0.4268 - accuracy: 0.8242 - val_loss: 3.0427 - val_accuracy: 0.3888\n",
            "Epoch 15/30\n",
            "3902/3902 [==============================] - 16s 4ms/step - loss: 0.4192 - accuracy: 0.8286 - val_loss: 3.1757 - val_accuracy: 0.3909\n",
            "Epoch 16/30\n",
            "3902/3902 [==============================] - 16s 4ms/step - loss: 0.4103 - accuracy: 0.8312 - val_loss: 3.2535 - val_accuracy: 0.3834\n",
            "Epoch 17/30\n",
            "3902/3902 [==============================] - 16s 4ms/step - loss: 0.4012 - accuracy: 0.8360 - val_loss: 3.3826 - val_accuracy: 0.3797\n",
            "Epoch 18/30\n",
            "3902/3902 [==============================] - 16s 4ms/step - loss: 0.3958 - accuracy: 0.8381 - val_loss: 3.4533 - val_accuracy: 0.3842\n",
            "Epoch 19/30\n",
            "3902/3902 [==============================] - 16s 4ms/step - loss: 0.3869 - accuracy: 0.8395 - val_loss: 3.5509 - val_accuracy: 0.3859\n",
            "Epoch 20/30\n",
            "3902/3902 [==============================] - 16s 4ms/step - loss: 0.3798 - accuracy: 0.8439 - val_loss: 3.6516 - val_accuracy: 0.3854\n",
            "Epoch 21/30\n",
            "3902/3902 [==============================] - 16s 4ms/step - loss: 0.3796 - accuracy: 0.8430 - val_loss: 3.7603 - val_accuracy: 0.3932\n",
            "Epoch 22/30\n",
            "3902/3902 [==============================] - 16s 4ms/step - loss: 0.3762 - accuracy: 0.8433 - val_loss: 3.7523 - val_accuracy: 0.3833\n",
            "Epoch 23/30\n",
            "3902/3902 [==============================] - 16s 4ms/step - loss: 0.3673 - accuracy: 0.8487 - val_loss: 3.8670 - val_accuracy: 0.3776\n",
            "Epoch 24/30\n",
            "3902/3902 [==============================] - 16s 4ms/step - loss: 0.3665 - accuracy: 0.8494 - val_loss: 3.9090 - val_accuracy: 0.3794\n",
            "Epoch 25/30\n",
            "3902/3902 [==============================] - 16s 4ms/step - loss: 0.3603 - accuracy: 0.8516 - val_loss: 4.0241 - val_accuracy: 0.3764\n",
            "Epoch 26/30\n",
            "3902/3902 [==============================] - 16s 4ms/step - loss: 0.3547 - accuracy: 0.8533 - val_loss: 4.0936 - val_accuracy: 0.3820\n",
            "Epoch 27/30\n",
            "3902/3902 [==============================] - 16s 4ms/step - loss: 0.3525 - accuracy: 0.8546 - val_loss: 4.2043 - val_accuracy: 0.3813\n",
            "Epoch 28/30\n",
            "3902/3902 [==============================] - 16s 4ms/step - loss: 0.3459 - accuracy: 0.8585 - val_loss: 4.2232 - val_accuracy: 0.3733\n",
            "Epoch 29/30\n",
            "3902/3902 [==============================] - 16s 4ms/step - loss: 0.3422 - accuracy: 0.8592 - val_loss: 4.3384 - val_accuracy: 0.3785\n",
            "Epoch 30/30\n",
            "3902/3902 [==============================] - 16s 4ms/step - loss: 0.3392 - accuracy: 0.8610 - val_loss: 4.4410 - val_accuracy: 0.3850\n"
          ],
          "name": "stdout"
        }
      ]
    },
    {
      "cell_type": "code",
      "metadata": {
        "id": "xXm7bhU0Kqyo",
        "colab": {
          "base_uri": "https://localhost:8080/",
          "height": 541
        },
        "outputId": "120aa638-bcbf-4a77-eb48-af83a573c06d"
      },
      "source": [
        "import matplotlib.pyplot as plt\n",
        "\n",
        "def plot_graphs(history, string):\n",
        "  plt.plot(history.history[string])\n",
        "  plt.plot(history.history['val_'+string])\n",
        "  plt.xlabel(\"Epochs\")\n",
        "  plt.ylabel(string)\n",
        "  plt.legend([string, 'val_'+string])\n",
        "  plt.show()\n",
        "  \n",
        "plot_graphs(history, \"accuracy\")\n",
        "plot_graphs(history, \"loss\")"
      ],
      "execution_count": null,
      "outputs": [
        {
          "output_type": "display_data",
          "data": {
            "image/png": "[encoded data removed]",
            "text/plain": [
              "<Figure size 432x288 with 1 Axes>"
            ]
          },
          "metadata": {
            "tags": [],
            "needs_background": "light"
          }
        },
        {
          "output_type": "display_data",
          "data": {
            "image/png": "[encoded data removed]",
            "text/plain": [
              "<Figure size 432x288 with 1 Axes>"
            ]
          },
          "metadata": {
            "tags": [],
            "needs_background": "light"
          }
        }
      ]
    },
    {
      "cell_type": "code",
      "metadata": {
        "id": "lP-mDU-mRNao"
      },
      "source": [
        ""
      ],
      "execution_count": null,
      "outputs": []
    }
  ]
}